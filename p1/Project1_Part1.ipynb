{
 "cells": [
  {
   "cell_type": "code",
   "execution_count": 1,
   "metadata": {},
   "outputs": [
    {
     "name": "stdout",
     "output_type": "stream",
     "text": [
      "package 'igraph' successfully unpacked and MD5 sums checked\n",
      "\n",
      "The downloaded binary packages are in\n",
      "\tC:\\Users\\admin\\AppData\\Local\\Temp\\RtmpwtTicX\\downloaded_packages\n",
      "package 'Matrix' successfully unpacked and MD5 sums checked\n",
      "\n",
      "The downloaded binary packages are in\n",
      "\tC:\\Users\\admin\\AppData\\Local\\Temp\\RtmpwtTicX\\downloaded_packages\n",
      "package 'pracma' successfully unpacked and MD5 sums checked\n",
      "\n",
      "The downloaded binary packages are in\n",
      "\tC:\\Users\\admin\\AppData\\Local\\Temp\\RtmpwtTicX\\downloaded_packages\n"
     ]
    }
   ],
   "source": [
    "install.packages('igraph')\n",
    "install.packages('Matrix')\n",
    "install.packages('pracma')"
   ]
  },
  {
   "cell_type": "code",
   "execution_count": 2,
   "metadata": {},
   "outputs": [
    {
     "name": "stderr",
     "output_type": "stream",
     "text": [
      "Warning message:\n",
      "\"package 'igraph' was built under R version 3.6.3\"\n",
      "Attaching package: 'igraph'\n",
      "\n",
      "The following objects are masked from 'package:stats':\n",
      "\n",
      "    decompose, spectrum\n",
      "\n",
      "The following object is masked from 'package:base':\n",
      "\n",
      "    union\n",
      "\n",
      "Warning message:\n",
      "\"package 'Matrix' was built under R version 3.6.3\"Warning message:\n",
      "\"package 'pracma' was built under R version 3.6.3\"\n",
      "Attaching package: 'pracma'\n",
      "\n",
      "The following objects are masked from 'package:Matrix':\n",
      "\n",
      "    expm, lu, tril, triu\n",
      "\n"
     ]
    }
   ],
   "source": [
    "library('igraph')\n",
    "library('Matrix')\n",
    "library('pracma')b"
   ]
  },
  {
   "cell_type": "markdown",
   "metadata": {},
   "source": [
    "# Part1 Generating Random Networks"
   ]
  },
  {
   "cell_type": "markdown",
   "metadata": {},
   "source": [
    "## Part1_1 Create random networks using Erd¨os-R´enyi (ER) model"
   ]
  },
  {
   "cell_type": "markdown",
   "metadata": {},
   "source": [
    "### 1_1_a"
   ]
  },
  {
   "cell_type": "code",
   "execution_count": 227,
   "metadata": {
    "scrolled": false
   },
   "outputs": [
    {
     "name": "stdout",
     "output_type": "stream",
     "text": [
      "[1] \"practical  : n=1000, ps= 0.003  --- mean is : 2.974 , variance is : 3.09842242242242\"\n",
      "[1] \"theoretical: n=1000, ps= 0.003  --- mean is : 2.997 , variance is : 2.988009\"\n",
      "[1] \"practical  : n=1000, ps= 0.004  --- mean is : 3.912 , variance is : 4.0402962962963\"\n",
      "[1] \"theoretical: n=1000, ps= 0.004  --- mean is : 3.996 , variance is : 3.980016\"\n",
      "[1] \"practical  : n=1000, ps= 0.01  --- mean is : 9.888 , variance is : 9.47092692692693\"\n",
      "[1] \"theoretical: n=1000, ps= 0.01  --- mean is : 9.99 , variance is : 9.8901\"\n",
      "[1] \"practical  : n=1000, ps= 0.05  --- mean is : 50.104 , variance is : 50.6498338338338\"\n",
      "[1] \"theoretical: n=1000, ps= 0.05  --- mean is : 49.95 , variance is : 47.4525\"\n",
      "[1] \"practical  : n=1000, ps= 0.1  --- mean is : 99.88 , variance is : 87.1467467467467\"\n",
      "[1] \"theoretical: n=1000, ps= 0.1  --- mean is : 99.9 , variance is : 89.91\"\n"
     ]
    },
    {
     "data": {
      "image/png": "[encoded data removed]",
      "text/plain": [
       "plot without title"
      ]
     },
     "metadata": {},
     "output_type": "display_data"
    }
   ],
   "source": [
    "ps <- c(0.003, 0.004, 0.01, 0.05, 0.1)\n",
    "gs <- list()\n",
    "for(i in 1:length(ps)){\n",
    "    g <- sample_gnp(n=1000, p=ps[i], directed = FALSE, loops = FALSE)\n",
    "    e <- mean(degree(g))\n",
    "    v <- var(degree(g))\n",
    "    print(paste('practical  : n=1000, ps=',ps[i], ' --- mean is :', e, ', variance is :', v))\n",
    "    print(paste('theoretical: n=1000, ps=',ps[i], ' --- mean is :', 999*ps[i], ', variance is :', 999*ps[i]*(1-ps[i])))\n",
    "    d <- degree_distribution(g)\n",
    "    plot((1:length(d))-1, d, type='l',xlim=c(0,130), ylim=range(0,0.3), col=colors()[i+29],lwd = 4)\n",
    "    par(new = TRUE)\n",
    "    gs[[i]] <- g\n",
    "}\n"
   ]
  },
  {
   "cell_type": "markdown",
   "metadata": {},
   "source": [
    "### 1_1_b"
   ]
  },
  {
   "cell_type": "code",
   "execution_count": 228,
   "metadata": {
    "scrolled": true
   },
   "outputs": [
    {
     "name": "stdout",
     "output_type": "stream",
     "text": [
      "[1] \"n=1000, ps= 0.003 , connections:  FALSE , GCC size: 944 , diameter:  14\"\n",
      "[1] \"n=1000, ps= 0.004 , connections:  FALSE , GCC size: 972 , diameter:  11\"\n",
      "[1] \"n=1000, ps= 0.01 , connections:  TRUE , GCC size: 1000 , diameter:  6\"\n",
      "[1] \"n=1000, ps= 0.05 , connections:  TRUE , GCC size: 1000 , diameter:  3\"\n",
      "[1] \"n=1000, ps= 0.1 , connections:  TRUE , GCC size: 1000 , diameter:  3\"\n"
     ]
    }
   ],
   "source": [
    "for(i in 1:length(ps)){\n",
    "    print(paste('n=1000, ps=', ps[i], \n",
    "                ', connections: ', is_connected(gs[[i]]), \n",
    "                ', GCC size:', max(components(gs[[i]])$csize),\n",
    "                ', diameter: ', diameter(gs[[i]])))\n",
    "}"
   ]
  },
  {
   "cell_type": "markdown",
   "metadata": {},
   "source": [
    "### 1_1_c"
   ]
  },
  {
   "cell_type": "code",
   "execution_count": 229,
   "metadata": {},
   "outputs": [
    {
     "data": {
      "image/png": "[encoded data removed]",
      "text/plain": [
       "plot without title"
      ]
     },
     "metadata": {},
     "output_type": "display_data"
    }
   ],
   "source": [
    "n <- 200\n",
    "ps <- 10^(- 4 + (1:n)/100)\n",
    "gccs <- ps*0\n",
    "for(i in 1:n){\n",
    "    tmp_gcc = zeros(1,100)\n",
    "    for(j in 1:100){\n",
    "        g <- sample_gnp(n=1000, p=ps[i], directed = FALSE, loops = FALSE)\n",
    "        tmp_gcc[j] <- max(components(g)$csize)\n",
    "    }\n",
    "    gccs[i] <- mean(tmp_gcc)/1000\n",
    "}\n",
    "plot(ps, gccs)"
   ]
  },
  {
   "cell_type": "code",
   "execution_count": 230,
   "metadata": {},
   "outputs": [
    {
     "data": {
      "text/html": [
       "0.00102329299228075"
      ],
      "text/latex": [
       "0.00102329299228075"
      ],
      "text/markdown": [
       "0.00102329299228075"
      ],
      "text/plain": [
       "[1] 0.001023293"
      ]
     },
     "metadata": {},
     "output_type": "display_data"
    }
   ],
   "source": [
    "ps[gccs>0.1][1]"
   ]
  },
  {
   "cell_type": "code",
   "execution_count": 231,
   "metadata": {},
   "outputs": [
    {
     "data": {
      "text/html": [
       "0.00467735141287198"
      ],
      "text/latex": [
       "0.00467735141287198"
      ],
      "text/markdown": [
       "0.00467735141287198"
      ],
      "text/plain": [
       "[1] 0.004677351"
      ]
     },
     "metadata": {},
     "output_type": "display_data"
    }
   ],
   "source": [
    "ps[gccs>0.99][1]"
   ]
  },
  {
   "cell_type": "markdown",
   "metadata": {},
   "source": [
    "### 1_1_d"
   ]
  },
  {
   "cell_type": "code",
   "execution_count": 155,
   "metadata": {},
   "outputs": [
    {
     "data": {
      "image/png": "[encoded data removed]",
      "text/plain": [
       "plot without title"
      ]
     },
     "metadata": {},
     "output_type": "display_data"
    }
   ],
   "source": [
    "c <- 0.5\n",
    "ns <- 10^(2+(1:100)/50)\n",
    "gccs <- ns*0\n",
    "for(i in 1:100){\n",
    "    pp <- c/ns[i]\n",
    "    tmp_gcc = zeros(1,100)\n",
    "    for(j in 1:100){\n",
    "        g <- sample_gnp(n=ns[i], p=pp, directed = FALSE, loops = FALSE)\n",
    "        tmp_gcc[j] <- max(components(g)$csize)/ns[i]\n",
    "    }\n",
    "    gccs[i] <- mean(tmp_gcc)\n",
    "}\n",
    "plot(ns, gccs)"
   ]
  },
  {
   "cell_type": "code",
   "execution_count": 160,
   "metadata": {},
   "outputs": [
    {
     "data": {
      "image/png": "[encoded data removed]",
      "text/plain": [
       "plot without title"
      ]
     },
     "metadata": {},
     "output_type": "display_data"
    }
   ],
   "source": [
    "c <- 1\n",
    "ns <- 10^(2+(1:100)/50)\n",
    "gccs <- ns*0\n",
    "for(i in 1:100){\n",
    "    pp <- c/ns[i]\n",
    "    tmp_gcc = zeros(1,100)\n",
    "    for(j in 1:100){\n",
    "        g <- sample_gnp(n=ns[i], p=pp, directed = FALSE, loops = FALSE)\n",
    "        tmp_gcc[j] <- max(components(g)$csize)/ns[i]\n",
    "    }\n",
    "    gccs[i] <- mean(tmp_gcc)\n",
    "}\n",
    "plot(ns, gccs)"
   ]
  },
  {
   "cell_type": "code",
   "execution_count": 157,
   "metadata": {},
   "outputs": [
    {
     "data": {
      "image/png": "[encoded data removed]",
      "text/plain": [
       "plot without title"
      ]
     },
     "metadata": {},
     "output_type": "display_data"
    }
   ],
   "source": [
    "cs <- c(1.1,1.2,1.3)\n",
    "for(k in 1:3){\n",
    "    ns <- 10^(2+(1:100)/50)\n",
    "    gccs <- ns*0\n",
    "    for(i in 1:100){\n",
    "        pp <- cs[k]/ns[i]\n",
    "        tmp_gcc = zeros(1,100)\n",
    "        for(j in 1:100){\n",
    "            g <- sample_gnp(n=ns[i], p=pp, directed = FALSE, loops = FALSE)\n",
    "            tmp_gcc[j] <- max(components(g)$csize)/ns[i]\n",
    "        }\n",
    "        gccs[i] <- mean(tmp_gcc)\n",
    "    }\n",
    "    plot(ns, gccs, type='l',xlim=c(0,10000), ylim=range(0.1,0.45), col=colors()[k+30],lwd = 4)\n",
    "    par(new = TRUE)\n",
    "}"
   ]
  },
  {
   "cell_type": "markdown",
   "metadata": {},
   "source": [
    "## Part1_2 Create networks using preferential attachment model"
   ]
  },
  {
   "cell_type": "markdown",
   "metadata": {},
   "source": [
    "### 1_2_a"
   ]
  },
  {
   "cell_type": "code",
   "execution_count": 188,
   "metadata": {},
   "outputs": [
    {
     "data": {
      "text/html": [
       "1"
      ],
      "text/latex": [
       "1"
      ],
      "text/markdown": [
       "1"
      ],
      "text/plain": [
       "[1] 1"
      ]
     },
     "metadata": {},
     "output_type": "display_data"
    }
   ],
   "source": [
    "tmp_conc = zeros(1,100)\n",
    "for(i in 1:100){\n",
    "    g<-sample_pa(n=1000,m=1,directed=F)\n",
    "    tmp_conc[i] <- is_connected(g)\n",
    "}\n",
    "mean(tmp_conc)"
   ]
  },
  {
   "cell_type": "markdown",
   "metadata": {},
   "source": [
    "### 1_2_b"
   ]
  },
  {
   "cell_type": "code",
   "execution_count": 190,
   "metadata": {},
   "outputs": [
    {
     "data": {
      "text/html": [
       "0.927375824272721"
      ],
      "text/latex": [
       "0.927375824272721"
      ],
      "text/markdown": [
       "0.927375824272721"
      ],
      "text/plain": [
       "[1] 0.9273758"
      ]
     },
     "metadata": {},
     "output_type": "display_data"
    }
   ],
   "source": [
    "g1 <- sample_pa(n=1000,m=1,directed=F)\n",
    "modularity(g1, cluster_fast_greedy(g1)$membership)"
   ]
  },
  {
   "cell_type": "markdown",
   "metadata": {},
   "source": [
    "### 1_2_c"
   ]
  },
  {
   "cell_type": "code",
   "execution_count": 191,
   "metadata": {},
   "outputs": [
    {
     "data": {
      "text/html": [
       "1"
      ],
      "text/latex": [
       "1"
      ],
      "text/markdown": [
       "1"
      ],
      "text/plain": [
       "[1] 1"
      ]
     },
     "metadata": {},
     "output_type": "display_data"
    }
   ],
   "source": [
    "tmp_conc = zeros(1,100)\n",
    "for(i in 1:100){\n",
    "    g<-sample_pa(n=10000,m=1,directed=F)\n",
    "    tmp_conc[i] <- is_connected(g)\n",
    "}\n",
    "mean(tmp_conc)"
   ]
  },
  {
   "cell_type": "code",
   "execution_count": 192,
   "metadata": {},
   "outputs": [
    {
     "data": {
      "text/html": [
       "0.978263562929951"
      ],
      "text/latex": [
       "0.978263562929951"
      ],
      "text/markdown": [
       "0.978263562929951"
      ],
      "text/plain": [
       "[1] 0.9782636"
      ]
     },
     "metadata": {},
     "output_type": "display_data"
    }
   ],
   "source": [
    "g2 <- sample_pa(n=10000,m=1,directed=F)\n",
    "modularity(g2, cluster_fast_greedy(g2)$membership)"
   ]
  },
  {
   "cell_type": "markdown",
   "metadata": {},
   "source": [
    "### 1_2_d"
   ]
  },
  {
   "cell_type": "code",
   "execution_count": 265,
   "metadata": {},
   "outputs": [
    {
     "name": "stderr",
     "output_type": "stream",
     "text": [
      "Warning message in xy.coords(x, y, xlabel, ylabel, log):\n",
      "\"1 x value <= 0 omitted from logarithmic plot\"Warning message in xy.coords(x, y, xlabel, ylabel, log):\n",
      "\"37 y values <= 0 omitted from logarithmic plot\"Warning message in xy.coords(x, y, xlabel, ylabel, log):\n",
      "\"1 x value <= 0 omitted from logarithmic plot\"Warning message in xy.coords(x, y, xlabel, ylabel, log):\n",
      "\"24 y values <= 0 omitted from logarithmic plot\""
     ]
    },
    {
     "data": {
      "image/png": "[encoded data removed]",
      "text/plain": [
       "plot without title"
      ]
     },
     "metadata": {},
     "output_type": "display_data"
    }
   ],
   "source": [
    "y1 = degree_distribution(g1)\n",
    "x1 = (1:length(y1))-1\n",
    "y2 = degree_distribution(g2)\n",
    "x2 = (1:length(y2))-1\n",
    "\n",
    "plot(x1,y1,log = 'xy', type='l', xlim=c(1,50), ylim=c(0.0001, 0.5), col='red',lwd = 4)\n",
    "par(new = TRUE)\n",
    "plot(x2,y2,log = 'xy', type='l', xlim=c(1,50), ylim=c(0.0001, 0.5), col='blue',lwd = 4)"
   ]
  },
  {
   "cell_type": "code",
   "execution_count": 266,
   "metadata": {},
   "outputs": [
    {
     "data": {
      "text/plain": [
       "\n",
       "Call:\n",
       "lm(formula = y ~ x)\n",
       "\n",
       "Coefficients:\n",
       "(Intercept)            x  \n",
       "    -0.3891      -1.9480  \n"
      ]
     },
     "metadata": {},
     "output_type": "display_data"
    }
   ],
   "source": [
    "x = log10(x1[y1>0])\n",
    "y = log10(y1[y1>0])\n",
    "lm(y~x)"
   ]
  },
  {
   "cell_type": "code",
   "execution_count": 267,
   "metadata": {},
   "outputs": [
    {
     "data": {
      "text/plain": [
       "\n",
       "Call:\n",
       "lm(formula = y ~ x)\n",
       "\n",
       "Coefficients:\n",
       "(Intercept)            x  \n",
       "   -0.01642     -2.56509  \n"
      ]
     },
     "metadata": {},
     "output_type": "display_data"
    }
   ],
   "source": [
    "x = log10(x2[y2>0])\n",
    "y = log10(y2[y2>0])\n",
    "lm(y~x)"
   ]
  },
  {
   "cell_type": "markdown",
   "metadata": {},
   "source": [
    "### 1_2_e"
   ]
  },
  {
   "cell_type": "code",
   "execution_count": null,
   "metadata": {},
   "outputs": [],
   "source": []
  },
  {
   "cell_type": "code",
   "execution_count": null,
   "metadata": {},
   "outputs": [],
   "source": []
  },
  {
   "cell_type": "code",
   "execution_count": null,
   "metadata": {},
   "outputs": [],
   "source": []
  },
  {
   "cell_type": "code",
   "execution_count": null,
   "metadata": {},
   "outputs": [],
   "source": []
  },
  {
   "cell_type": "code",
   "execution_count": null,
   "metadata": {},
   "outputs": [],
   "source": []
  }
 ],
 "metadata": {
  "kernelspec": {
   "display_name": "R",
   "language": "R",
   "name": "ir"
  },
  "language_info": {
   "codemirror_mode": "r",
   "file_extension": ".r",
   "mimetype": "text/x-r-source",
   "name": "R",
   "pygments_lexer": "r",
   "version": "3.6.1"
  }
 },
 "nbformat": 4,
 "nbformat_minor": 4
}

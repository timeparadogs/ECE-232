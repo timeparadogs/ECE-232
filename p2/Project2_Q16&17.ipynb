{
 "cells": [
  {
   "cell_type": "code",
   "execution_count": 22,
   "id": "f879bdc0",
   "metadata": {},
   "outputs": [],
   "source": [
    "library('igraph')"
   ]
  },
  {
   "cell_type": "code",
   "execution_count": 23,
   "id": "e1e6be0e",
   "metadata": {},
   "outputs": [
    {
     "name": "stdout",
     "output_type": "stream",
     "text": [
      "Number of users who we want to recommend friends to: 11"
     ]
    }
   ],
   "source": [
    "fb_combined = read_graph(\"facebook_combined.txt\", format='ncol', directed=FALSE)\n",
    "fb_graph = as_edgelist(fb_combined)\n",
    "fb_edgelist = graph_from_edgelist(fb_graph, directed=FALSE)\n",
    "\n",
    "graph_415 = make_ego_graph(fb_edgelist, nodes=c('414'))\n",
    "degree_list = degree(graph_415[[1]])\n",
    "Nr = which(degree_list == 24)\n",
    "\n",
    "# Question 16\n",
    "cat(paste(\"Number of users who we want to recommend friends to:\", length(Nr)))"
   ]
  },
  {
   "cell_type": "code",
   "execution_count": 24,
   "id": "190eb59b",
   "metadata": {},
   "outputs": [],
   "source": [
    "# Question 17\n",
    "mean_accuracy = function(method) {\n",
    "    mean_accuracies = c()\n",
    "    for (node_i in Nr) {\n",
    "        accuracies = c()\n",
    "        for (iteration in c(1:10)) {\n",
    "            temp_g = graph_415[[1]]\n",
    "            Ri = c()\n",
    "            neighbors_i = neighbors(temp_g, node_i)\n",
    "            for (neighbor in neighbors_i) {\n",
    "                if (runif(1,0,1) <= 0.25) {\n",
    "                    temp_g = delete_edges(temp_g, edge(neighbor, node_i))\n",
    "                    Ri = c(Ri, neighbor)\n",
    "                }\n",
    "            }\n",
    "            updated_neighbors_i = setdiff(neighbors_i, Ri)\n",
    "            updated_neighbors_i = c(updated_neighbors_i, node_i)\n",
    "            not_neighbors_i = setdiff(V(temp_g), updated_neighbors_i)\n",
    "            measure = c()\n",
    "            for (node_j in not_neighbors_i) {\n",
    "                neighbors_j = neighbors(temp_g, node_j)\n",
    "                intersected_neighbors = intersect(updated_neighbors_i, neighbors_j)\n",
    "                if (method == \"Common Neighbors\") {\n",
    "                    measure = c(measure, length(intersected_neighbors))\n",
    "                } else if (method == \"Jaccard\") {\n",
    "                    union_neighbors = union(updated_neighbors_i, neighbors_j)\n",
    "                    measure = c(measure, length(intersected_neighbors)/length(union_neighbors))\n",
    "                } else if (method == \"Adamic-Adar\") {\n",
    "                    sum = 0\n",
    "                    for (node_k in intersected_neighbors) {\n",
    "                        sum = sum + 1/log10(length(neighbors(temp_g, node_k)))\n",
    "                    }\n",
    "                    measure = c(measure, sum)\n",
    "                }\n",
    "            }\n",
    "            idx = sort(measure, decreasing=TRUE, index.return=TRUE)$ix\n",
    "            Pi = not_neighbors_i[idx[1:length(Ri)]]\n",
    "            accuracies = append(accuracies, length(intersect(Ri, Pi))/length(Ri))\n",
    "        }\n",
    "        mean_accuracies = append(mean_accuracies, mean(accuracies))\n",
    "    }\n",
    "    return (mean(mean_accuracies))\n",
    "}"
   ]
  },
  {
   "cell_type": "code",
   "execution_count": 28,
   "id": "ae4e0a18",
   "metadata": {},
   "outputs": [
    {
     "name": "stdout",
     "output_type": "stream",
     "text": [
      "Average accuracy of common neighbors mearuse is 0.859908828545192\n",
      "Average accuracy of Jaccard mearuse is 0.829422799422799\n",
      "Average accuracy of Adamic-Adar mearuse is 0.866962481962482"
     ]
    }
   ],
   "source": [
    "cat(paste(\"Average accuracy of common neighbors mearuse is\", mean_accuracy(\"Common Neighbors\")))\n",
    "cat(\"\\n\")\n",
    "cat(paste(\"Average accuracy of Jaccard mearuse is\", mean_accuracy(\"Jaccard\")))\n",
    "cat(\"\\n\")\n",
    "cat(paste(\"Average accuracy of Adamic-Adar mearuse is\", mean_accuracy(\"Adamic-Adar\")))"
   ]
  },
  {
   "cell_type": "code",
   "execution_count": null,
   "id": "30a72e5c",
   "metadata": {},
   "outputs": [],
   "source": []
  }
 ],
 "metadata": {
  "kernelspec": {
   "display_name": "R",
   "language": "R",
   "name": "ir"
  },
  "language_info": {
   "codemirror_mode": "r",
   "file_extension": ".r",
   "mimetype": "text/x-r-source",
   "name": "R",
   "pygments_lexer": "r",
   "version": "3.6.1"
  }
 },
 "nbformat": 4,
 "nbformat_minor": 5
}
